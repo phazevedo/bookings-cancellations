{
  "nbformat": 4,
  "nbformat_minor": 0,
  "metadata": {
    "colab": {
      "provenance": [],
      "authorship_tag": "ABX9TyNptnhn2xjLYgrdTLIkCBs4",
      "include_colab_link": true
    },
    "kernelspec": {
      "name": "python3",
      "display_name": "Python 3"
    },
    "language_info": {
      "name": "python"
    }
  },
  "cells": [
    {
      "cell_type": "markdown",
      "metadata": {
        "id": "view-in-github",
        "colab_type": "text"
      },
      "source": [
        "<a href=\"https://colab.research.google.com/github/phazevedo/bookings-cancellations/blob/main/cancelamentos.ipynb\" target=\"_parent\"><img src=\"https://colab.research.google.com/assets/colab-badge.svg\" alt=\"Open In Colab\"/></a>"
      ]
    },
    {
      "cell_type": "code",
      "execution_count": null,
      "metadata": {
        "id": "yvXpik6qwA4l"
      },
      "outputs": [],
      "source": [
        "from google.colab import drive\n",
        "drive.mount('/content/gdrive')"
      ]
    },
    {
      "cell_type": "code",
      "source": [
        "import pandas as pd"
      ],
      "metadata": {
        "id": "GaGLIG_9wPaH"
      },
      "execution_count": null,
      "outputs": []
    },
    {
      "cell_type": "code",
      "source": [
        "# Carrrega informações sobre o banco de dados\n",
        "df = pd.read_csv(\"/content/gdrive/MyDrive/Colab Notebooks/bookings_data.csv\")"
      ],
      "metadata": {
        "id": "XVTubwNcwP9l"
      },
      "execution_count": null,
      "outputs": []
    },
    {
      "cell_type": "code",
      "source": [
        "# Análise inicial dos dados\n",
        "df.info()"
      ],
      "metadata": {
        "id": "w0ZCuo6JwSM4"
      },
      "execution_count": null,
      "outputs": []
    },
    {
      "cell_type": "code",
      "source": [
        "# Análise probabilistica dos dados\n",
        "df.describe()"
      ],
      "metadata": {
        "id": "V1ainzbMwTwo"
      },
      "execution_count": null,
      "outputs": []
    },
    {
      "cell_type": "code",
      "source": [
        "# Numero de valores unicos\n",
        "df.nunique()"
      ],
      "metadata": {
        "id": "rap5rsoqwVGF"
      },
      "execution_count": null,
      "outputs": []
    },
    {
      "cell_type": "code",
      "source": [
        "# Número de valores faltantes\n",
        "# As tabelas país (country), agente (agent) e companhia (company) possuem valores nulos.\n",
        "# As variáveis de tempo antes da reserva (lead_time), país (country), agente(agent) e companhia (company) possuem muitos valores únicos, indicando alta cardinalidade.\n",
        "df.isna().sum()"
      ],
      "metadata": {
        "id": "3aVGOv5BwYnd"
      },
      "execution_count": null,
      "outputs": []
    },
    {
      "cell_type": "code",
      "source": [
        "# Importa bibliotecas de visualização\n",
        "import seaborn as sns\n",
        "import matplotlib.pyplot as plt\n",
        "%matplotlib inline"
      ],
      "metadata": {
        "id": "BAamVxf5waYL"
      },
      "execution_count": null,
      "outputs": []
    },
    {
      "cell_type": "code",
      "source": [
        "categorical_features = [\"hotel\", \"arrival_date_month\", \"meal\", \"country\", \"market_segment\",\n",
        "                        \"distribution_channel\", \"reserved_room_type\", \"assigned_room_type\",\n",
        "                        \"deposit_type\", \"customer_type\", \"reservation_status\", \"reservation_status_date\"]\n",
        "numeric_features = [\"is_canceled\", \"lead_time\", \"arrival_date_year\", \"arrival_date_week_number\",\n",
        "                    \"arrival_date_day_of_month\", \"stays_in_weekend_nights\", \"stays_in_week_nights\",\n",
        "                    \"adults\", \"children\", \"babies\", \"is_repeated_guest\", \"previous_cancellations\",\n",
        "                    \"previous_bookings_not_canceled\", \"booking_changes\", \"agent\", \"company\", \"days_in_waiting_list\",\n",
        "                    \"adr\", \"required_car_parking_spaces\", \"total_of_special_requests\"]\n",
        "df[numeric_features].describe()"
      ],
      "metadata": {
        "id": "31WyNzVvwdXY"
      },
      "execution_count": null,
      "outputs": []
    },
    {
      "cell_type": "code",
      "source": [
        "# Análise dos valores numéricos\n",
        "df[[\"agent\", \"company\", \"days_in_waiting_list\", \"adr\", \"required_car_parking_spaces\", \"total_of_special_requests\"]].describe()"
      ],
      "metadata": {
        "id": "rr2j4v3lxKc8"
      },
      "execution_count": null,
      "outputs": []
    },
    {
      "cell_type": "markdown",
      "source": [
        "* is_canceled: Varia entre 1 (Cancelado) e 0 (Não cancelado);\n",
        "* lead_time: Varia entre 0 e 737 dias de antecedencia. Encontramos que 75% das reservas foram feitas com menos de 160 dia, isso pode indicar outliers quando observamos o valor máximo.\n",
        "* arrival_date_year: Varia entre 2015 e 2017.\n",
        "* arrival_date_week_number: Varia entre 1 e 53.\n",
        "* arrival_date_day_of_month: Varia entre 1 e 31.\n",
        "* stays_in_weekend_nights: Varia entre 0 e 19. Porém 75% dos dados estão abaixo de 2. Uma reserva com 19 dias de fim de semana indica a presença de outliers.\n",
        "* stays_in_week_nights: Varia entre 0 e 50. Porém 75% dos dados estão abaixo de 3. Uma reserva com 50 dias na semana indica a presença de outliers.\n",
        "* adults: Varia entre 0 e 55. Porém 75% dos dados estão abaixo de 2. Uma reserva com 55 adultos indica presença de dados outliers ou dados incorretos. Assim como uma reserva com 0 adultos também demonstra dados incorretos.\n",
        "* children:\n",
        "* babies: Varia entre 0 e 10. Porém 75% dos dados estão abaixo de 0. Uma reserva com 10 bebes indica presença de dados outliers ou dados incorretos.\n",
        "* children: Varia entre 0 e 10. Porém 75% dos dados estão abaixo de 0. Uma reserva com 10 crianças indica presença de dados outliers ou dados incorretos.\n",
        "* is_repeated_guest: Varia entre 1 (Repetido) e 0 (Não repetido);\n",
        "* previous_cancellations: Varia entre 0 e 26. Porém 75% dos dados estão abaixo de 0. Um cliente com 26 cancelamentos anteriores indica presença de dados outliers ou dados incorretos.\n",
        "* previous_bookings_not_canceled: Varia entre 0 e 72. Porém 75% dos dados estão abaixo de 0. Um cliente com 72 reservas anteriores indica presença de dados outliers ou dados incorretos.\n",
        "* booking_changes: Varia entre 0 e 21. Porém 75% dos dados estão abaixo de 0. Um cliente com 21 reservas anteriores indica presença de dados outliers ou dados incorretos.\n",
        "* agent: Esse é um campo do código da agência então não tem valor estatístico.\n",
        "* company: Esse é um campo do código do website então não tem valor estatístico.\n",
        "* days_in_waiting_list: Varia entre 0 e 391. Porém 75% dos dados estão abaixo de 0. Um cliente que aguardou 391 dias indica presença de dados outliers ou dados incorretos.\n",
        "* adr: Varia entre -6.38 e 5400. Porém 75% dos dados estão abaixo de 126. Esse campo indica o valor médio pago pela reserva. Valores negativos demonstraram dados incorretos e 5400 demonstra uma reserva com um valor outlier.\n",
        "* required_car_parking_spaces: Varia entre 0 e 8. Porém 75% dos dados estão abaixo de 0. Um cliente com 8 vagas solicitadas  pode indicar presença de possíveis outliers.\n",
        "* total_of_special_requests: Varia entre 0 e 5. Porém 75% dos dados estão abaixo de 1. Um cliente com 5 pedidos especiais pode indicar presença de possíveis outliers."
      ],
      "metadata": {
        "id": "IKh0760Hxlzk"
      }
    },
    {
      "cell_type": "code",
      "source": [
        "# Analisando as correlações entre as features numéricas\n",
        "# Por padrão é utilizado Pearson mas podemos tentar corr(method='kendall') ou corr(method='spearman')\n",
        "plt.figure(figsize = (20, 8))\n",
        "corr = df[numeric_features].corr()\n",
        "sns.heatmap(corr, annot = True, linewidths = 1)\n",
        "plt.show()"
      ],
      "metadata": {
        "id": "IT_1-qjvx-Rn"
      },
      "execution_count": null,
      "outputs": []
    },
    {
      "cell_type": "code",
      "source": [
        "# Criando um método para exibir os valores outliers\n",
        "def box_plot(fields):\n",
        "  plt.figure(figsize=(12, 8))\n",
        "  outlier_fields = [\"lead_time\", \"stays_in_weekend_nights\", \"stays_in_week_nights\", \"adults\", \"children\", \"babies\", \"is_repeated_guest\", \"previous_cancellations\", \"previous_bookings_not_canceled\", \"booking_changes\", \"days_in_waiting_list\", \"adr\", \"required_car_parking_spaces\", \"total_of_special_requests\"]\n",
        "  booking_boxplot = sns.boxplot(data=df[fields], orient=\"h\")\n",
        "  plt.title(\"Outliers\")\n",
        "  plt.show()\n",
        "  print(df.shape)"
      ],
      "metadata": {
        "id": "nldrVZzayDp2"
      },
      "execution_count": null,
      "outputs": []
    },
    {
      "cell_type": "code",
      "source": [
        "# Essas features tem um range semelhantes então vamos exibir um boxplot para visiualizar os outliers\n",
        "box_plot([\"stays_in_weekend_nights\", \"stays_in_week_nights\", \"adults\", \"children\", \"babies\", \"is_repeated_guest\", \"previous_cancellations\", \"previous_bookings_not_canceled\", \"booking_changes\", \"required_car_parking_spaces\", \"total_of_special_requests\"])"
      ],
      "metadata": {
        "id": "-puuiGghyp9g"
      },
      "execution_count": null,
      "outputs": []
    },
    {
      "cell_type": "code",
      "source": [
        "# Essas features tem um limite mais extenso então vamos ver o box plot delas separados\n",
        "box_plot([\"lead_time\", \"days_in_waiting_list\", \"adr\"])"
      ],
      "metadata": {
        "id": "7iPa-MQgy4pN"
      },
      "execution_count": null,
      "outputs": []
    },
    {
      "cell_type": "code",
      "source": [
        "# Removendo valores exorbitantes\n",
        "df = df[df['adr'] <= 5000]\n",
        "df = df[df['adults'] > 0]\n",
        "df = df[df['adults'] <= 10]\n",
        "df = df[df['babies'] <= 5]\n",
        "df = df[df['children'] <= 5]\n",
        "df = df[df['previous_cancellations'] <= 10]\n",
        "\n",
        "\n",
        "df.info()"
      ],
      "metadata": {
        "id": "bgcONvLDzECT"
      },
      "execution_count": null,
      "outputs": []
    },
    {
      "cell_type": "code",
      "source": [
        "# Analisando os valores estatisticos após a remoção dos valores exorbitantes\n",
        "df.describe()"
      ],
      "metadata": {
        "id": "xoNpSa9KzJVO"
      },
      "execution_count": null,
      "outputs": []
    },
    {
      "cell_type": "code",
      "source": [
        "box_plot([\"stays_in_weekend_nights\", \"stays_in_week_nights\", \"adults\", \"children\", \"babies\", \"is_repeated_guest\", \"previous_cancellations\", \"previous_bookings_not_canceled\", \"booking_changes\", \"required_car_parking_spaces\", \"total_of_special_requests\"])"
      ],
      "metadata": {
        "id": "7QkyLLcOzeoE"
      },
      "execution_count": null,
      "outputs": []
    },
    {
      "cell_type": "code",
      "source": [
        "box_plot([\"lead_time\", \"days_in_waiting_list\", \"adr\"])"
      ],
      "metadata": {
        "id": "V7TlrhcOzgTL"
      },
      "execution_count": null,
      "outputs": []
    },
    {
      "cell_type": "code",
      "source": [
        "# Reavaliando as correlações após a remoção de valores muito altos\n",
        "plt.figure(figsize = (20, 8))\n",
        "corr = df[numeric_features].corr()\n",
        "sns.heatmap(corr, annot = True, linewidths = 1)\n",
        "plt.show()"
      ],
      "metadata": {
        "id": "Z03NfO-dzgwJ"
      },
      "execution_count": null,
      "outputs": []
    },
    {
      "cell_type": "code",
      "source": [
        "# Remoção de outliers utilizando amplitude interquartil\n",
        "for campo in [\"lead_time\", \"adr\"]:\n",
        "    q1 = df[campo].quantile(0.25)\n",
        "    q3 = df[campo].quantile(0.75)\n",
        "    #calculamos a amplitude interquartil\n",
        "    iqr = q3 - q1\n",
        "    lim_inferior = q1 - 1.5 * iqr\n",
        "    lim_superior = q3 + 1.5 * iqr\n",
        "    # removemos tudo abaixo do limite inferior\n",
        "    df = df[df[campo] >= lim_inferior]\n",
        "    # removemos tudo abaixo do limite superior\n",
        "    df = df[df[campo] <= lim_superior]"
      ],
      "metadata": {
        "id": "vG02XWXrz9Wu"
      },
      "execution_count": null,
      "outputs": []
    },
    {
      "cell_type": "code",
      "source": [
        "# Visualização dos dados após remoção de outliers\n",
        "df[numeric_features].describe()"
      ],
      "metadata": {
        "id": "hRwr-lO80IhG"
      },
      "execution_count": null,
      "outputs": []
    },
    {
      "cell_type": "code",
      "source": [
        "# Correlação após a remoção de outliers\n",
        "plt.figure(figsize = (20, 8))\n",
        "corr = df[numeric_features].corr()\n",
        "sns.heatmap(corr, annot = True, linewidths = 1)\n",
        "plt.show()"
      ],
      "metadata": {
        "id": "tanPM-lN0l9t"
      },
      "execution_count": null,
      "outputs": []
    },
    {
      "cell_type": "code",
      "source": [
        "# Agora vamos analisar os dados categóricos\n",
        "# Visualização inicial\n",
        "df.describe(include = 'O').T"
      ],
      "metadata": {
        "id": "zu68Sp-V0sNF"
      },
      "execution_count": null,
      "outputs": []
    },
    {
      "cell_type": "code",
      "source": [
        "# O campo de Paises tem muitos campos únicos, então o melhor é agrupar em continentes\n",
        "# O primeiro passo é separar quais paises pertencem a qual continente\n",
        "africa = [\"DZA\",\"AGO\",\"BEN\",\"BWA\",\"IOT\",\"BFA\",\"BDI\",\"CPV\",\"CMR\",\"CAF\",\"TCD\",\"COM\",\"COG\",\"COD\",\"CIV\",\"DJI\",\"EGY\",\"GNQ\",\"ERI\",\"SWZ\",\"ETH\",\"ATF\",\"GAB\",\"GMB\",\"GHA\",\"GIN\",\"GNB\",\"KEN\",\"LSO\",\"LBR\",\"LBY\",\"MDG\",\"MWI\",\"MLI\",\"MRT\",\"MUS\",\"MYT\",\"MAR\",\"MOZ\",\"NAM\",\"NER\",\"NGA\",\"REU\",\"RWA\",\"SHN\",\"STP\",\"SEN\",\"SYC\",\"SLE\",\"SOM\",\"ZAF\",\"SSD\",\"SDN\",\"TZA\",\"TGO\",\"TUN\",\"UGA\",\"ESH\",\"ZMB\",\"ZWE\"]\n",
        "america = [\"AIA\", \"ATG\", \"ARG\", \"ABW\", \"BHS\", \"BRB\", \"BLZ\", \"BMU\", \"BOL\", \"BES\", \"BVT\", \"BRA\", \"CAN\", \"CYM\", \"CHL\", \"COL\", \"CRI\", \"CUB\", \"CUW\", \"DMA\", \"DOM\", \"ECU\", \"SLV\", \"FLK\", \"GUF\", \"GRL\", \"GRD\", \"GLP\", \"GTM\", \"GUY\", \"HTI\", \"HND\", \"JAM\", \"MTQ\", \"MEX\", \"MSR\", \"NIC\", \"PAN\", \"PRY\", \"PER\", \"PRI\", \"BLM\", \"KNA\", \"LCA\", \"MAF\", \"SPM\", \"VCT\", \"SXM\", \"SGS\", \"SUR\", \"TTO\", \"TCA\", \"USA\", \"URY\", \"VEN\", \"VGB\", \"VIR\"]\n",
        "asia = [\"AFG\", \"ARM\", \"AZE\", \"BHR\", \"BGD\", \"BTN\", \"BRN\", \"KHM\", \"CHN\", \"CYP\", \"GEO\", \"HKG\", \"IND\", \"IDN\", \"IRN\", \"IRQ\", \"ISR\", \"JPN\", \"JOR\", \"KAZ\", \"PRK\", \"KOR\", \"KWT\", \"KGZ\", \"LAO\", \"LBN\", \"MAC\", \"MYS\", \"MDV\", \"MNG\", \"MMR\", \"NPL\", \"OMN\", \"PAK\", \"PSE\", \"PHL\", \"QAT\", \"SAU\", \"SGP\", \"LKA\", \"SYR\", \"TWN\", \"TJK\", \"THA\", \"TLS\", \"TUR\", \"TKM\", \"ARE\", \"UZB\", \"VNM\", \"YEM\"]\n",
        "europa = [\"ALA\", \"ALB\", \"AND\", \"AUT\", \"BLR\", \"BEL\", \"BIH\", \"BGR\", \"HRV\", \"CZE\", \"DNK\", \"EST\", \"FRO\", \"FIN\", \"FRA\", \"DEU\", \"GIB\", \"GRC\", \"GGY\", \"VAT\", \"HUN\", \"ISL\", \"IRL\", \"IMN\", \"ITA\", \"JEY\", \"LVA\", \"LIE\", \"LTU\", \"LUX\", \"MLT\", \"MDA\", \"MCO\", \"MNE\", \"NLD\", \"MKD\", \"NOR\", \"POL\", \"PRT\", \"ROU\", \"RUS\", \"SMR\", \"SRB\", \"SVK\", \"SVN\", \"ESP\", \"SJM\", \"SWE\", \"CHE\", \"UKR\", \"GBR\"]\n",
        "oceania = [\"ASM\", \"AUS\", \"CXR\", \"CCK\", \"COK\", \"FJI\", \"PYF\", \"GUM\", \"HMD\", \"KIR\", \"MHL\", \"FSM\", \"NRU\", \"NCL\", \"NZL\", \"NIU\", \"NFK\", \"MNP\", \"PLW\", \"PNG\", \"PCN\", \"WSM\", \"SLB\", \"TKL\", \"TON\", \"TUV\", \"UMI\", \"VUT\", \"WLF\"]\n"
      ],
      "metadata": {
        "id": "Lm7yyQ3q1C4t"
      },
      "execution_count": null,
      "outputs": []
    },
    {
      "cell_type": "code",
      "source": [
        "# Criamos um método que recebe o pais e retorna o continente referente\n",
        "def get_continent(row):\n",
        "  pais = row[\"country\"]\n",
        "  if pais in africa: return \"AFRICA\"\n",
        "  if pais in america: return \"AMERICA\"\n",
        "  if pais in asia: return \"ASIA\"\n",
        "  if pais in europa: return \"EUROPA\"\n",
        "  if pais in oceania: return \"OCEANIA\"\n",
        "  return \"OUTRO\""
      ],
      "metadata": {
        "id": "rembTMXh1ZB4"
      },
      "execution_count": null,
      "outputs": []
    },
    {
      "cell_type": "code",
      "source": [
        "# Aplicando o método de conversão ao campo de pais\n",
        "df['continent'] = df.apply(get_continent, axis=1)"
      ],
      "metadata": {
        "id": "g6tWPsyj1f8_"
      },
      "execution_count": null,
      "outputs": []
    },
    {
      "cell_type": "code",
      "source": [
        "# Visualizando todos os valores unicos dos campos\n",
        "for i in categorical_features:\n",
        "    print((\"{}({}): {} \\n\").format(i, df[i].nunique(), df[i].unique()))"
      ],
      "metadata": {
        "id": "2_h9i1tB1t2x"
      },
      "execution_count": null,
      "outputs": []
    },
    {
      "cell_type": "markdown",
      "source": [
        "  * hotel: Esse campo indica o nome do Hotel da reserva. Esse campo não era utilizado em nossa análise.\n",
        "  *   arrival_date_month: Este campo contém todos os meses do ano. Podemos ver que os meses com mais reservas são Agosto, Julho e Maio e durante os meses de inverno as reservas diminuiem. Nas nossa analises não usaremos os meses.\n",
        "  *   meal: A maioria das reservas são do tipo Bed-Breakfast. Iremos manter este campo na análise.\n",
        "  *  country: Este campo possui muitos valores únicos o que pode gera um mal desempenho quando aplicarmeos one-hot encoding. Vamos transformar estes paises em continentes.\n",
        "  *   market_segment: Este campo indica o segmento de market. Utilizaremos este campo na análise.\n",
        "  *   distribution_channel: Este campo indica o canal de distribuição. Utilizaremos este campo na análise.\n",
        "  *   reserved_room_type: Não utilizaremos este campo na análise.\n",
        "  *   assigned_room_type: Não utilizaremos este campo na análise.\n",
        "  *   deposit_type: Este campo indica o tipo de pagamento. Uma questão a se analisar aqui é que reservas totalmente refundáveis podem gerar mais cancelamentos.\n",
        "  *   customer_type: Este é o tipo do cliente. Utilizaremos este campo na análise.\n",
        "  *   reservation_status: Este campo está diretamente relacionado ao campo cancelado, então o removeremos.\n",
        "  *   reservation_status_date: Este campo está diretamente relacionado ao campo cancelado, então o removeremos.\n"
      ],
      "metadata": {
        "id": "8L61sRHe11-U"
      }
    },
    {
      "cell_type": "code",
      "source": [
        "# Ambos os campos reservation_status_date e reservation_status_date estão diretamente relacionado a variável is_canceled. Isso significa que se mantermos essas varíaveis teremos um modelo viciado. Ambas variáveis serão removidas.\n",
        "plt.figure(figsize=(8, 5))\n",
        "sns.countplot(x='reservation_status', hue='is_canceled', data=df)\n",
        "plt.title('Cancelamento vs Status da Reserva')\n",
        "plt.xlabel('Status da Reserva')\n",
        "plt.ylabel('Total')\n",
        "plt.legend(title='Cancelado', labels=['Não', 'Sim'])\n",
        "plt.show()"
      ],
      "metadata": {
        "id": "YDIYkgWY2iPB"
      },
      "execution_count": null,
      "outputs": []
    },
    {
      "cell_type": "code",
      "source": [
        "df = df.drop([\"country\", \"hotel\", \"reservation_status_date\", \"reservation_status\", \"reserved_room_type\", \"assigned_room_type\"], axis='columns')"
      ],
      "metadata": {
        "id": "tKTCiGiq202a"
      },
      "execution_count": null,
      "outputs": []
    },
    {
      "cell_type": "code",
      "source": [
        "# Como não vamos considerar sazonalidade em nossa análise, iremos remover os campos de data como arrival_date_month, arrival_date_year, arrival_date_month, arrival_date_week_number e arrival_date_day_of_month.\n",
        "df = df.drop([\"arrival_date_year\", \"arrival_date_week_number\", \"arrival_date_day_of_month\", \"agent\", \"company\"], axis='columns')"
      ],
      "metadata": {
        "id": "9KEC6weR2wlc"
      },
      "execution_count": null,
      "outputs": []
    },
    {
      "cell_type": "code",
      "source": [
        "# Transformando os vamores categórios em dummies, com os valores binários poderemos utilizar nos modelos\n",
        "nominais = ['arrival_date_month', 'meal', 'market_segment',\n",
        "                'distribution_channel', 'continent', 'deposit_type',\n",
        "                'customer_type']\n",
        "df = pd.get_dummies(df, columns=nominais, drop_first=True)\n",
        "df.info()"
      ],
      "metadata": {
        "id": "Q6DWqHSD263J"
      },
      "execution_count": null,
      "outputs": []
    },
    {
      "cell_type": "code",
      "source": [
        "# Visualizando se os dados estão balanceados\n",
        "percentage = df['is_canceled'].value_counts(normalize=True) * 100\n",
        "plt.figure(figsize=(8, 5))\n",
        "ax = sns.barplot(x=percentage.index, y=percentage)\n",
        "plt.title('Proporção cancelamentos')\n",
        "plt.xlabel('Cancelado')\n",
        "plt.ylabel('%')\n",
        "plt.xticks(ticks=[0, 1], labels=['Não Cancelado', 'Cancelado'])\n",
        "plt.yticks(ticks=range(0,80,10))\n",
        "\n",
        "for i, p in enumerate(percentage):\n",
        "    ax.text(i, p + 0.5, f'{p:.2f}%', ha='center', va='bottom')\n",
        "\n",
        "plt.show()"
      ],
      "metadata": {
        "id": "QQsN6cA63NnG"
      },
      "execution_count": null,
      "outputs": []
    },
    {
      "cell_type": "code",
      "source": [
        "# Removendo o campo is_canceled para criar iniciar as análises\n",
        "df_variavel_alvo = df['is_canceled']\n",
        "df_features = df.drop([\"is_canceled\"], axis=1)\n",
        "df_canc = df_variavel_alvo"
      ],
      "metadata": {
        "id": "JrcDDv2o3Z44"
      },
      "execution_count": null,
      "outputs": []
    },
    {
      "cell_type": "code",
      "source": [
        "# Utilizando Kbest para encontrar as melhores features\n",
        "from sklearn.feature_selection import SelectKBest, f_classif\n",
        "k_best = SelectKBest(score_func=f_classif)\n",
        "\n",
        "X = k_best.fit_transform(df_features, df_variavel_alvo)\n",
        "y = df_variavel_alvo\n",
        "scores_data = list(zip(df_features.columns, k_best.scores_))\n",
        "score_df = pd.DataFrame(scores_data, columns=[\"column\", \"score\"])\n",
        "score_df.sort_values(by=['score'], ascending=False).head(15)"
      ],
      "metadata": {
        "id": "BXMcamjY362K"
      },
      "execution_count": null,
      "outputs": []
    },
    {
      "cell_type": "code",
      "source": [
        "# Separando os dados em teste e treino\n",
        "# Foi utilizado stratify para garantir o balanceamento dos datasets\n",
        "from sklearn.model_selection import train_test_split\n",
        "\n",
        "X_train, X_test, y_train, y_test = train_test_split(df_features,\n",
        "                                                    df_canc,\n",
        "                                                    test_size=0.25,\n",
        "                                                    random_state=0,\n",
        "                                                    stratify=df_canc)"
      ],
      "metadata": {
        "id": "E0pW67ab4UYM"
      },
      "execution_count": null,
      "outputs": []
    },
    {
      "cell_type": "code",
      "source": [
        "# Importando as bibliotecas que serão utilizada para calcular os modelos\n",
        "import numpy as np\n",
        "from sklearn.model_selection import GridSearchCV, StratifiedKFold\n",
        "from sklearn.metrics import accuracy_score, recall_score, precision_score, f1_score, roc_auc_score, confusion_matrix, classification_report, RocCurveDisplay, ConfusionMatrixDisplay, make_scorer\n",
        "from sklearn.linear_model import LogisticRegression\n",
        "from sklearn.neighbors import KNeighborsClassifier\n",
        "from sklearn.tree import DecisionTreeClassifier\n",
        "from sklearn.ensemble import AdaBoostClassifier, RandomForestClassifier\n",
        "from sklearn.svm import SVC\n",
        "from matplotlib.colors import ListedColormap, LinearSegmentedColormap\n",
        "from xgboost import XGBClassifier"
      ],
      "metadata": {
        "id": "5IDSCyj845tj"
      },
      "execution_count": null,
      "outputs": []
    },
    {
      "cell_type": "code",
      "source": [
        "# Criamos um método que recebe o tipo do Modelo, os parâmetros que queremos testar e o nome do método (apenas uma label)\n",
        "# Estamos utilizando GridSearchCV para encontrar o melhor parâmetro baseado nos parâmetros passados\n",
        "# Depois que encontramos o melhor método criamos um dataframe com o resultado e exibimos em um heatmap\n",
        "\n",
        "def model_with_grisearch(dt, params, nome):\n",
        "  grid_search = GridSearchCV(dt, param_grid=params,scoring='f1_macro', refit=True, verbose=10)\n",
        "  grid_search.fit(X_train, y_train)\n",
        "  print(f\"Melhores parâmetros: {grid_search.best_params_}\\nMelhor score: {grid_search.best_score_}\")\n",
        "\n",
        "  melhor_param = grid_search.best_estimator_\n",
        "  y_pred = melhor_param.predict(X_test)\n",
        "\n",
        "  result = pd.DataFrame(data=[accuracy_score(y_test, y_pred),\n",
        "                              precision_score(y_test, y_pred, pos_label=1),\n",
        "                              recall_score(y_test, y_pred, pos_label=1),\n",
        "                              f1_score(y_test, y_pred, pos_label=1),\n",
        "                              roc_auc_score(y_test, melhor_param.predict_proba(X_test)[:,1])],\n",
        "                        index=['Acurácia','Precisão','Revocação','F1-score','AUC'],\n",
        "                        columns = [nome])\n",
        "\n",
        "  print((result * 100).round(2).astype(str) + '%')\n",
        "  sns.heatmap(confusion_matrix(y_test, y_pred), cmap=\"Purples\", fmt=\".0f\", annot=True).plot()"
      ],
      "metadata": {
        "id": "B5-xPNGW5WoL"
      },
      "execution_count": null,
      "outputs": []
    },
    {
      "cell_type": "code",
      "source": [
        "# Criamos uma varíavel que contem o nome do modelo como chave e nos valores temos os params e qual o modelo que vamos utilizar\n",
        "models =  {\n",
        "    \"KNN\": {\"params\": {\"n_neighbors\": np.arange(1, 10)}, \"dt\": KNeighborsClassifier()},\n",
        "    \"Árvore de decisão\": {\"params\": {\"max_depth\": np.arange(1, 30, 2), \"criterion\": [\"gini\", \"entropy\"]}, \"dt\":  DecisionTreeClassifier(random_state=0)},\n",
        "    \"Regresão Logística3\": {\"params\": {\"C\": [0.01, 0.1, 1, 10, 100], \"penalty\": [\"l2\"], 'solver': ['liblinear', 'saga']}, \"dt\":  LogisticRegression(random_state=0, max_iter=10000)},\n",
        "    \"Random Forest\": {\"params\":{'n_estimators': np.arange(50, 201, 50),'max_depth':  np.arange(1, 30, 2),'min_samples_split': [2, 5],'min_samples_leaf': [2, 4],'max_features': ['sqrt']}, \"dt\":  RandomForestClassifier(random_state=0)},\n",
        "    \"SVC\": {\"params\":{'C':[1,10,100,1000],'gamma':[1,0.1,0.001,0.0001], 'kernel':['linear','rbf']}, \"dt\":  SVC(random_state=0)},\n",
        "    \"XGBoost\":  {\"params\": {'max_depth': range (2, 10, 1),'n_estimators': range(60, 220, 40),'learning_rate': [0.1, 0.01, 0.05]}, \"dt\": XGBClassifier(random_state=0,objective= 'binary:logistic',nthread=4,seed=0)},\n",
        "    \"ADABoost\":  {\"params\": {'n_estimators':[10,50,100,250,500,1000], 'learning_rate':[0.0001, 0.001, 0.01, 0.1, 1.0]}, \"dt\": AdaBoostClassifier(base_estimator=DecisionTreeClassifier())}\n",
        "}"
      ],
      "metadata": {
        "id": "STFAdQTX59Yv"
      },
      "execution_count": null,
      "outputs": []
    },
    {
      "cell_type": "code",
      "source": [
        "# Agora passamos por cada item encontrando os melhores valores para os parâmetros e criando um heatmap para cada resultado\n",
        "for key, value in models.items():\n",
        "  model_with_grisearch(value[\"dt\"],value[\"params\"], key )"
      ],
      "metadata": {
        "id": "ebOO-y-H6Y7m"
      },
      "execution_count": null,
      "outputs": []
    }
  ]
}